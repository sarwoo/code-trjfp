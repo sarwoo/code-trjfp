{
 "cells": [
  {
   "cell_type": "code",
   "execution_count": 4,
   "source": [
    "import pandas as pd"
   ],
   "outputs": [],
   "metadata": {}
  },
  {
   "cell_type": "code",
   "execution_count": 5,
   "source": [
    "# df = pd.read_csv(\"./data/Intercept-all-data.csv\")\n",
    "df = pd.read_csv(\"./data/Intercept_2021.csv\")"
   ],
   "outputs": [],
   "metadata": {
    "scrolled": true
   }
  },
  {
   "cell_type": "code",
   "execution_count": 6,
   "source": [
    "# Convert Date Intercept to datetime, day first\n",
    "df[\"Date Intercepted\"] = pd.to_datetime(df[\"Date Intercepted\"], dayfirst=True)"
   ],
   "outputs": [],
   "metadata": {}
  },
  {
   "cell_type": "code",
   "execution_count": 7,
   "source": [
    "# add month column\n",
    "df['Month'] = df['Date Intercepted'].dt.month"
   ],
   "outputs": [],
   "metadata": {}
  },
  {
   "cell_type": "code",
   "execution_count": 8,
   "source": [
    "df_june = df.loc[(df['Month'] == 6)]"
   ],
   "outputs": [],
   "metadata": {}
  },
  {
   "cell_type": "code",
   "execution_count": 9,
   "source": [
    "df_june.loc[df['Product'] == \"Bakery\"].sort_values('Date Intercepted', ascending=False)"
   ],
   "outputs": [
    {
     "output_type": "execute_result",
     "data": {
      "text/html": [
       "<div>\n",
       "<style scoped>\n",
       "    .dataframe tbody tr th:only-of-type {\n",
       "        vertical-align: middle;\n",
       "    }\n",
       "\n",
       "    .dataframe tbody tr th {\n",
       "        vertical-align: top;\n",
       "    }\n",
       "\n",
       "    .dataframe thead th {\n",
       "        text-align: right;\n",
       "    }\n",
       "</style>\n",
       "<table border=\"1\" class=\"dataframe\">\n",
       "  <thead>\n",
       "    <tr style=\"text-align: right;\">\n",
       "      <th></th>\n",
       "      <th>Date Intercepted</th>\n",
       "      <th>Location</th>\n",
       "      <th>Company</th>\n",
       "      <th>Town/City</th>\n",
       "      <th>Source Category</th>\n",
       "      <th>Temperature</th>\n",
       "      <th>Product</th>\n",
       "      <th>Weight (in grams)</th>\n",
       "      <th>Type</th>\n",
       "      <th>Month</th>\n",
       "    </tr>\n",
       "  </thead>\n",
       "  <tbody>\n",
       "    <tr>\n",
       "      <th>2037</th>\n",
       "      <td>2021-06-30</td>\n",
       "      <td>Sharehouse Leeds</td>\n",
       "      <td>Morrisons</td>\n",
       "      <td>NaN</td>\n",
       "      <td>Retail</td>\n",
       "      <td>Ambient</td>\n",
       "      <td>Bakery</td>\n",
       "      <td>5400</td>\n",
       "      <td>Donated</td>\n",
       "      <td>6</td>\n",
       "    </tr>\n",
       "    <tr>\n",
       "      <th>2038</th>\n",
       "      <td>2021-06-30</td>\n",
       "      <td>Sharehouse Leeds</td>\n",
       "      <td>Morrisons</td>\n",
       "      <td>NaN</td>\n",
       "      <td>Retail</td>\n",
       "      <td>Ambient</td>\n",
       "      <td>Bakery</td>\n",
       "      <td>120000</td>\n",
       "      <td>Donated</td>\n",
       "      <td>6</td>\n",
       "    </tr>\n",
       "    <tr>\n",
       "      <th>2032</th>\n",
       "      <td>2021-06-28</td>\n",
       "      <td>Sharehouse Leeds</td>\n",
       "      <td>Morrisons</td>\n",
       "      <td>NaN</td>\n",
       "      <td>Retail</td>\n",
       "      <td>Ambient</td>\n",
       "      <td>Bakery</td>\n",
       "      <td>1820</td>\n",
       "      <td>Donated</td>\n",
       "      <td>6</td>\n",
       "    </tr>\n",
       "    <tr>\n",
       "      <th>2029</th>\n",
       "      <td>2021-06-28</td>\n",
       "      <td>Sharehouse Leeds</td>\n",
       "      <td>Morrisons</td>\n",
       "      <td>NaN</td>\n",
       "      <td>Retail</td>\n",
       "      <td>Ambient</td>\n",
       "      <td>Bakery</td>\n",
       "      <td>22300</td>\n",
       "      <td>Donated</td>\n",
       "      <td>6</td>\n",
       "    </tr>\n",
       "    <tr>\n",
       "      <th>2751</th>\n",
       "      <td>2021-06-26</td>\n",
       "      <td>Sharehouse Leeds</td>\n",
       "      <td>Tesco</td>\n",
       "      <td>NaN</td>\n",
       "      <td>Retail</td>\n",
       "      <td>Ambient</td>\n",
       "      <td>Bakery</td>\n",
       "      <td>25200</td>\n",
       "      <td>Donated</td>\n",
       "      <td>6</td>\n",
       "    </tr>\n",
       "    <tr>\n",
       "      <th>...</th>\n",
       "      <td>...</td>\n",
       "      <td>...</td>\n",
       "      <td>...</td>\n",
       "      <td>...</td>\n",
       "      <td>...</td>\n",
       "      <td>...</td>\n",
       "      <td>...</td>\n",
       "      <td>...</td>\n",
       "      <td>...</td>\n",
       "      <td>...</td>\n",
       "    </tr>\n",
       "    <tr>\n",
       "      <th>2691</th>\n",
       "      <td>2021-06-01</td>\n",
       "      <td>Sharehouse Leeds</td>\n",
       "      <td>Tesco</td>\n",
       "      <td>NaN</td>\n",
       "      <td>Retail</td>\n",
       "      <td>Ambient</td>\n",
       "      <td>Bakery</td>\n",
       "      <td>10500</td>\n",
       "      <td>Donated</td>\n",
       "      <td>6</td>\n",
       "    </tr>\n",
       "    <tr>\n",
       "      <th>1922</th>\n",
       "      <td>2021-06-01</td>\n",
       "      <td>Sharehouse Leeds</td>\n",
       "      <td>Morrisons</td>\n",
       "      <td>NaN</td>\n",
       "      <td>Retail</td>\n",
       "      <td>Ambient</td>\n",
       "      <td>Bakery</td>\n",
       "      <td>10800</td>\n",
       "      <td>Donated</td>\n",
       "      <td>6</td>\n",
       "    </tr>\n",
       "    <tr>\n",
       "      <th>1924</th>\n",
       "      <td>2021-06-01</td>\n",
       "      <td>Sharehouse Leeds</td>\n",
       "      <td>Morrisons</td>\n",
       "      <td>NaN</td>\n",
       "      <td>Retail</td>\n",
       "      <td>Ambient</td>\n",
       "      <td>Bakery</td>\n",
       "      <td>46200</td>\n",
       "      <td>Donated</td>\n",
       "      <td>6</td>\n",
       "    </tr>\n",
       "    <tr>\n",
       "      <th>1929</th>\n",
       "      <td>2021-06-01</td>\n",
       "      <td>Sharehouse Leeds</td>\n",
       "      <td>Morrisons</td>\n",
       "      <td>NaN</td>\n",
       "      <td>Retail</td>\n",
       "      <td>Ambient</td>\n",
       "      <td>Bakery</td>\n",
       "      <td>20000</td>\n",
       "      <td>Donated</td>\n",
       "      <td>6</td>\n",
       "    </tr>\n",
       "    <tr>\n",
       "      <th>1925</th>\n",
       "      <td>2021-06-01</td>\n",
       "      <td>Sharehouse Leeds</td>\n",
       "      <td>Morrisons</td>\n",
       "      <td>NaN</td>\n",
       "      <td>Retail</td>\n",
       "      <td>Ambient</td>\n",
       "      <td>Bakery</td>\n",
       "      <td>10000</td>\n",
       "      <td>Donated</td>\n",
       "      <td>6</td>\n",
       "    </tr>\n",
       "  </tbody>\n",
       "</table>\n",
       "<p>153 rows × 10 columns</p>\n",
       "</div>"
      ],
      "text/plain": [
       "     Date Intercepted          Location    Company Town/City Source Category  \\\n",
       "2037       2021-06-30  Sharehouse Leeds  Morrisons       NaN          Retail   \n",
       "2038       2021-06-30  Sharehouse Leeds  Morrisons       NaN          Retail   \n",
       "2032       2021-06-28  Sharehouse Leeds  Morrisons       NaN          Retail   \n",
       "2029       2021-06-28  Sharehouse Leeds  Morrisons       NaN          Retail   \n",
       "2751       2021-06-26  Sharehouse Leeds      Tesco       NaN          Retail   \n",
       "...               ...               ...        ...       ...             ...   \n",
       "2691       2021-06-01  Sharehouse Leeds      Tesco       NaN          Retail   \n",
       "1922       2021-06-01  Sharehouse Leeds  Morrisons       NaN          Retail   \n",
       "1924       2021-06-01  Sharehouse Leeds  Morrisons       NaN          Retail   \n",
       "1929       2021-06-01  Sharehouse Leeds  Morrisons       NaN          Retail   \n",
       "1925       2021-06-01  Sharehouse Leeds  Morrisons       NaN          Retail   \n",
       "\n",
       "     Temperature Product  Weight (in grams)     Type  Month  \n",
       "2037     Ambient  Bakery               5400  Donated      6  \n",
       "2038     Ambient  Bakery             120000  Donated      6  \n",
       "2032     Ambient  Bakery               1820  Donated      6  \n",
       "2029     Ambient  Bakery              22300  Donated      6  \n",
       "2751     Ambient  Bakery              25200  Donated      6  \n",
       "...          ...     ...                ...      ...    ...  \n",
       "2691     Ambient  Bakery              10500  Donated      6  \n",
       "1922     Ambient  Bakery              10800  Donated      6  \n",
       "1924     Ambient  Bakery              46200  Donated      6  \n",
       "1929     Ambient  Bakery              20000  Donated      6  \n",
       "1925     Ambient  Bakery              10000  Donated      6  \n",
       "\n",
       "[153 rows x 10 columns]"
      ]
     },
     "metadata": {},
     "execution_count": 9
    }
   ],
   "metadata": {}
  },
  {
   "cell_type": "code",
   "execution_count": 46,
   "source": [
    "# total_bakery = df.loc[df['Product'] == \"Bakery\"]['Weight (in grams)'].sum()\n",
    "# print(f\"Total bakery: {total_bakery}\")\n",
    "grand_total = 0\n",
    "for product in df['Product'].unique():\n",
    "    total = df.loc[df['Product'] == product]['Weight (in grams)'].sum()\n",
    "    print(f\"Total {product}: {total/1_000} Kg\")\n",
    "    grand_total += total\n",
    "print(f\"Year Total to date : {(int(grand_total/1_000_000))} tonne\")"
   ],
   "outputs": [
    {
     "output_type": "stream",
     "name": "stdout",
     "text": [
      "Total Dairy: 9639.775 Kg\n",
      "Total Fresh Produce: 219463.818 Kg\n",
      "Total Bakery: 40953.423 Kg\n",
      "Total Other: 177464.746 Kg\n",
      "Total Drinks: 77040.822 Kg\n",
      "Total Meat, Fish, Poultry, Eggs: 24884.71 Kg\n",
      "Total Pre-prepared Meals: 10763.606 Kg\n",
      "Year Total to date : 560 tonne\n"
     ]
    }
   ],
   "metadata": {}
  },
  {
   "cell_type": "code",
   "execution_count": 32,
   "source": [
    "df['Product'].unique()"
   ],
   "outputs": [
    {
     "output_type": "execute_result",
     "data": {
      "text/plain": [
       "array(['Dairy', 'Fresh Produce', 'Bakery', 'Other', 'Drinks',\n",
       "       'Meat, Fish, Poultry, Eggs', 'Pre-prepared Meals'], dtype=object)"
      ]
     },
     "metadata": {},
     "execution_count": 32
    }
   ],
   "metadata": {}
  },
  {
   "cell_type": "code",
   "execution_count": null,
   "source": [],
   "outputs": [],
   "metadata": {}
  }
 ],
 "metadata": {
  "kernelspec": {
   "name": "python3",
   "display_name": "Python 3.9.7 64-bit ('venv': venv)"
  },
  "language_info": {
   "codemirror_mode": {
    "name": "ipython",
    "version": 3
   },
   "file_extension": ".py",
   "mimetype": "text/x-python",
   "name": "python",
   "nbconvert_exporter": "python",
   "pygments_lexer": "ipython3",
   "version": "3.9.7"
  },
  "interpreter": {
   "hash": "67756bc84993e063668ab4f5919a6b666613a02ea0f69782a5d4d0de1a4a32e2"
  }
 },
 "nbformat": 4,
 "nbformat_minor": 5
}