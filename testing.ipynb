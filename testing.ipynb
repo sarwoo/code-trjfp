{
 "cells": [
  {
   "cell_type": "code",
   "execution_count": 1,
   "metadata": {},
   "outputs": [],
   "source": [
    "import pandas as pd"
   ]
  },
  {
   "cell_type": "code",
   "execution_count": 2,
   "metadata": {
    "scrolled": true
   },
   "outputs": [],
   "source": [
    "# df = pd.read_csv(\"./data/Intercept-all-data.csv\")\n",
    "df = pd.read_csv(\"./data/Intercept_2021.csv\")"
   ]
  },
  {
   "cell_type": "code",
   "execution_count": 3,
   "metadata": {},
   "outputs": [],
   "source": [
    "# Convert Date Intercept to datetime, day first\n",
    "df[\"Date Intercepted\"] = pd.to_datetime(df[\"Date Intercepted\"], dayfirst=True)"
   ]
  },
  {
   "cell_type": "code",
   "execution_count": 4,
   "metadata": {},
   "outputs": [],
   "source": [
    "# add month column\n",
    "df['Month'] = df['Date Intercepted'].dt.month"
   ]
  },
  {
   "cell_type": "code",
   "execution_count": 5,
   "metadata": {},
   "outputs": [],
   "source": [
    "df_june = df.loc[(df['Month'] == 6)]"
   ]
  },
  {
   "cell_type": "code",
   "execution_count": 6,
   "metadata": {},
   "outputs": [
    {
     "data": {
      "text/html": [
       "<div>\n",
       "<style scoped>\n",
       "    .dataframe tbody tr th:only-of-type {\n",
       "        vertical-align: middle;\n",
       "    }\n",
       "\n",
       "    .dataframe tbody tr th {\n",
       "        vertical-align: top;\n",
       "    }\n",
       "\n",
       "    .dataframe thead th {\n",
       "        text-align: right;\n",
       "    }\n",
       "</style>\n",
       "<table border=\"1\" class=\"dataframe\">\n",
       "  <thead>\n",
       "    <tr style=\"text-align: right;\">\n",
       "      <th></th>\n",
       "      <th>Date Intercepted</th>\n",
       "      <th>Location</th>\n",
       "      <th>Company</th>\n",
       "      <th>Town/City</th>\n",
       "      <th>Source Category</th>\n",
       "      <th>Temperature</th>\n",
       "      <th>Product</th>\n",
       "      <th>Weight (in grams)</th>\n",
       "      <th>Type</th>\n",
       "      <th>Month</th>\n",
       "    </tr>\n",
       "  </thead>\n",
       "  <tbody>\n",
       "    <tr>\n",
       "      <th>2102</th>\n",
       "      <td>2021-06-30</td>\n",
       "      <td>Sharehouse Leeds</td>\n",
       "      <td>Morrisons</td>\n",
       "      <td>NaN</td>\n",
       "      <td>Retail</td>\n",
       "      <td>Ambient</td>\n",
       "      <td>Bakery</td>\n",
       "      <td>5400</td>\n",
       "      <td>Donated</td>\n",
       "      <td>6</td>\n",
       "    </tr>\n",
       "    <tr>\n",
       "      <th>2103</th>\n",
       "      <td>2021-06-30</td>\n",
       "      <td>Sharehouse Leeds</td>\n",
       "      <td>Morrisons</td>\n",
       "      <td>NaN</td>\n",
       "      <td>Retail</td>\n",
       "      <td>Ambient</td>\n",
       "      <td>Bakery</td>\n",
       "      <td>120000</td>\n",
       "      <td>Donated</td>\n",
       "      <td>6</td>\n",
       "    </tr>\n",
       "    <tr>\n",
       "      <th>2097</th>\n",
       "      <td>2021-06-28</td>\n",
       "      <td>Sharehouse Leeds</td>\n",
       "      <td>Morrisons</td>\n",
       "      <td>NaN</td>\n",
       "      <td>Retail</td>\n",
       "      <td>Ambient</td>\n",
       "      <td>Bakery</td>\n",
       "      <td>1820</td>\n",
       "      <td>Donated</td>\n",
       "      <td>6</td>\n",
       "    </tr>\n",
       "    <tr>\n",
       "      <th>2094</th>\n",
       "      <td>2021-06-28</td>\n",
       "      <td>Sharehouse Leeds</td>\n",
       "      <td>Morrisons</td>\n",
       "      <td>NaN</td>\n",
       "      <td>Retail</td>\n",
       "      <td>Ambient</td>\n",
       "      <td>Bakery</td>\n",
       "      <td>22300</td>\n",
       "      <td>Donated</td>\n",
       "      <td>6</td>\n",
       "    </tr>\n",
       "    <tr>\n",
       "      <th>2830</th>\n",
       "      <td>2021-06-26</td>\n",
       "      <td>Sharehouse Leeds</td>\n",
       "      <td>Tesco</td>\n",
       "      <td>NaN</td>\n",
       "      <td>Retail</td>\n",
       "      <td>Ambient</td>\n",
       "      <td>Bakery</td>\n",
       "      <td>25200</td>\n",
       "      <td>Donated</td>\n",
       "      <td>6</td>\n",
       "    </tr>\n",
       "    <tr>\n",
       "      <th>...</th>\n",
       "      <td>...</td>\n",
       "      <td>...</td>\n",
       "      <td>...</td>\n",
       "      <td>...</td>\n",
       "      <td>...</td>\n",
       "      <td>...</td>\n",
       "      <td>...</td>\n",
       "      <td>...</td>\n",
       "      <td>...</td>\n",
       "      <td>...</td>\n",
       "    </tr>\n",
       "    <tr>\n",
       "      <th>2770</th>\n",
       "      <td>2021-06-01</td>\n",
       "      <td>Sharehouse Leeds</td>\n",
       "      <td>Tesco</td>\n",
       "      <td>NaN</td>\n",
       "      <td>Retail</td>\n",
       "      <td>Ambient</td>\n",
       "      <td>Bakery</td>\n",
       "      <td>10500</td>\n",
       "      <td>Donated</td>\n",
       "      <td>6</td>\n",
       "    </tr>\n",
       "    <tr>\n",
       "      <th>1987</th>\n",
       "      <td>2021-06-01</td>\n",
       "      <td>Sharehouse Leeds</td>\n",
       "      <td>Morrisons</td>\n",
       "      <td>NaN</td>\n",
       "      <td>Retail</td>\n",
       "      <td>Ambient</td>\n",
       "      <td>Bakery</td>\n",
       "      <td>10800</td>\n",
       "      <td>Donated</td>\n",
       "      <td>6</td>\n",
       "    </tr>\n",
       "    <tr>\n",
       "      <th>1989</th>\n",
       "      <td>2021-06-01</td>\n",
       "      <td>Sharehouse Leeds</td>\n",
       "      <td>Morrisons</td>\n",
       "      <td>NaN</td>\n",
       "      <td>Retail</td>\n",
       "      <td>Ambient</td>\n",
       "      <td>Bakery</td>\n",
       "      <td>46200</td>\n",
       "      <td>Donated</td>\n",
       "      <td>6</td>\n",
       "    </tr>\n",
       "    <tr>\n",
       "      <th>1994</th>\n",
       "      <td>2021-06-01</td>\n",
       "      <td>Sharehouse Leeds</td>\n",
       "      <td>Morrisons</td>\n",
       "      <td>NaN</td>\n",
       "      <td>Retail</td>\n",
       "      <td>Ambient</td>\n",
       "      <td>Bakery</td>\n",
       "      <td>20000</td>\n",
       "      <td>Donated</td>\n",
       "      <td>6</td>\n",
       "    </tr>\n",
       "    <tr>\n",
       "      <th>1990</th>\n",
       "      <td>2021-06-01</td>\n",
       "      <td>Sharehouse Leeds</td>\n",
       "      <td>Morrisons</td>\n",
       "      <td>NaN</td>\n",
       "      <td>Retail</td>\n",
       "      <td>Ambient</td>\n",
       "      <td>Bakery</td>\n",
       "      <td>10000</td>\n",
       "      <td>Donated</td>\n",
       "      <td>6</td>\n",
       "    </tr>\n",
       "  </tbody>\n",
       "</table>\n",
       "<p>153 rows × 10 columns</p>\n",
       "</div>"
      ],
      "text/plain": [
       "     Date Intercepted          Location    Company Town/City Source Category  \\\n",
       "2102       2021-06-30  Sharehouse Leeds  Morrisons       NaN          Retail   \n",
       "2103       2021-06-30  Sharehouse Leeds  Morrisons       NaN          Retail   \n",
       "2097       2021-06-28  Sharehouse Leeds  Morrisons       NaN          Retail   \n",
       "2094       2021-06-28  Sharehouse Leeds  Morrisons       NaN          Retail   \n",
       "2830       2021-06-26  Sharehouse Leeds      Tesco       NaN          Retail   \n",
       "...               ...               ...        ...       ...             ...   \n",
       "2770       2021-06-01  Sharehouse Leeds      Tesco       NaN          Retail   \n",
       "1987       2021-06-01  Sharehouse Leeds  Morrisons       NaN          Retail   \n",
       "1989       2021-06-01  Sharehouse Leeds  Morrisons       NaN          Retail   \n",
       "1994       2021-06-01  Sharehouse Leeds  Morrisons       NaN          Retail   \n",
       "1990       2021-06-01  Sharehouse Leeds  Morrisons       NaN          Retail   \n",
       "\n",
       "     Temperature Product  Weight (in grams)     Type  Month  \n",
       "2102     Ambient  Bakery               5400  Donated      6  \n",
       "2103     Ambient  Bakery             120000  Donated      6  \n",
       "2097     Ambient  Bakery               1820  Donated      6  \n",
       "2094     Ambient  Bakery              22300  Donated      6  \n",
       "2830     Ambient  Bakery              25200  Donated      6  \n",
       "...          ...     ...                ...      ...    ...  \n",
       "2770     Ambient  Bakery              10500  Donated      6  \n",
       "1987     Ambient  Bakery              10800  Donated      6  \n",
       "1989     Ambient  Bakery              46200  Donated      6  \n",
       "1994     Ambient  Bakery              20000  Donated      6  \n",
       "1990     Ambient  Bakery              10000  Donated      6  \n",
       "\n",
       "[153 rows x 10 columns]"
      ]
     },
     "execution_count": 6,
     "metadata": {},
     "output_type": "execute_result"
    }
   ],
   "source": [
    "df_june.loc[df['Product'] == \"Bakery\"].sort_values('Date Intercepted', ascending=False)"
   ]
  },
  {
   "cell_type": "code",
   "execution_count": 7,
   "metadata": {},
   "outputs": [
    {
     "name": "stdout",
     "output_type": "stream",
     "text": [
      "Total Dairy: 9645.675 Kg\n",
      "Total Fresh Produce: 226346.777 Kg\n",
      "Total Bakery: 42664.423 Kg\n",
      "Total Other: 179701.446 Kg\n",
      "Total Drinks: 77387.822 Kg\n",
      "Total Meat, Fish, Poultry, Eggs: 24979.91 Kg\n",
      "Total Pre-prepared Meals: 11099.306 Kg\n",
      "Year Total to date : 571 tonne\n"
     ]
    }
   ],
   "source": [
    "# total_bakery = df.loc[df['Product'] == \"Bakery\"]['Weight (in grams)'].sum()\n",
    "# print(f\"Total bakery: {total_bakery}\")\n",
    "grand_total = 0\n",
    "for product in df['Product'].unique():\n",
    "    total = df.loc[df['Product'] == product]['Weight (in grams)'].sum()\n",
    "    print(f\"Total {product}: {total/1_000} Kg\")\n",
    "    grand_total += total\n",
    "print(f\"Year Total to date : {(int(grand_total/1_000_000))} tonne\")"
   ]
  },
  {
   "cell_type": "markdown",
   "metadata": {},
   "source": []
  },
  {
   "cell_type": "code",
   "execution_count": 8,
   "metadata": {},
   "outputs": [
    {
     "data": {
      "text/plain": [
       "array(['Dairy', 'Fresh Produce', 'Bakery', 'Other', 'Drinks',\n",
       "       'Meat, Fish, Poultry, Eggs', 'Pre-prepared Meals'], dtype=object)"
      ]
     },
     "execution_count": 8,
     "metadata": {},
     "output_type": "execute_result"
    }
   ],
   "source": [
    "df['Product'].unique()"
   ]
  },
  {
   "cell_type": "code",
   "execution_count": 11,
   "metadata": {},
   "outputs": [
    {
     "data": {
      "text/plain": [
       "array(['Private', 'Retail', 'Hospitality', nan, 'RDC'], dtype=object)"
      ]
     },
     "execution_count": 11,
     "metadata": {},
     "output_type": "execute_result"
    }
   ],
   "source": [
    "df['Source Category'].unique()\n"
   ]
  },
  {
   "cell_type": "code",
   "execution_count": null,
   "metadata": {},
   "outputs": [],
   "source": []
  }
 ],
 "metadata": {
  "interpreter": {
   "hash": "df2f6cee2f675f5e194ff6d2707553e785117838836fb64d34e2d334497721a6"
  },
  "kernelspec": {
   "display_name": "Python 3.9.7 64-bit ('venv': venv)",
   "name": "python3"
  },
  "language_info": {
   "codemirror_mode": {
    "name": "ipython",
    "version": 3
   },
   "file_extension": ".py",
   "mimetype": "text/x-python",
   "name": "python",
   "nbconvert_exporter": "python",
   "pygments_lexer": "ipython3",
   "version": "3.9.7"
  }
 },
 "nbformat": 4,
 "nbformat_minor": 5
}
