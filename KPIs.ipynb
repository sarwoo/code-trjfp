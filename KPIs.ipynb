{
 "cells": [
  {
   "cell_type": "code",
   "execution_count": 29,
   "metadata": {},
   "outputs": [],
   "source": [
    "import pandas as pd\n",
    "import matplotlib.pyplot as plt\n",
    "import seaborn as sns"
   ]
  },
  {
   "cell_type": "code",
   "execution_count": 30,
   "metadata": {
    "scrolled": true
   },
   "outputs": [],
   "source": [
    "# df = pd.read_csv(\"./data/Intercept-all-data.csv\")\n",
    "df = pd.read_csv(\"./data/Intercept_2021.csv\")"
   ]
  },
  {
   "cell_type": "code",
   "execution_count": 31,
   "metadata": {},
   "outputs": [],
   "source": [
    "# Convert Date Intercept to datetime, day first\n",
    "df[\"Date Intercepted\"] = pd.to_datetime(df[\"Date Intercepted\"], dayfirst=True)"
   ]
  },
  {
   "cell_type": "code",
   "execution_count": 32,
   "metadata": {},
   "outputs": [],
   "source": [
    "# add month column\n",
    "df['Month'] = df['Date Intercepted'].dt.month"
   ]
  },
  {
   "cell_type": "code",
   "execution_count": 33,
   "metadata": {},
   "outputs": [],
   "source": [
    "monthly_weights = df.groupby('Month').sum()['Weight (in grams)']"
   ]
  },
  {
   "cell_type": "code",
   "execution_count": 34,
   "metadata": {},
   "outputs": [
    {
     "name": "stdout",
     "output_type": "stream",
     "text": [
      "Month\n",
      "2       7184800\n",
      "3     124405190\n",
      "4     102233283\n",
      "5      72768409\n",
      "6      54545706\n",
      "7      39183544\n",
      "8      43383779\n",
      "9     108630684\n",
      "10     16117364\n",
      "Name: Weight (in grams), dtype: int64\n"
     ]
    }
   ],
   "source": [
    "print(monthly_weights)"
   ]
  },
  {
   "cell_type": "code",
   "execution_count": 51,
   "metadata": {},
   "outputs": [
    {
     "name": "stdout",
     "output_type": "stream",
     "text": [
      "7,184,800 Kg or 17,106,666 meals\n",
      "124,405,190 Kg or 296,202,833 meals\n",
      "102,233,283 Kg or 243,412,578 meals\n",
      "72,768,409 Kg or 173,258,116 meals\n",
      "54,545,706 Kg or 129,870,728 meals\n",
      "39,183,544 Kg or 93,294,152 meals\n",
      "43,383,779 Kg or 103,294,711 meals\n",
      "108,630,684 Kg or 258,644,485 meals\n",
      "16,117,364 Kg or 38,374,676 meals\n",
      "Annual figure: 568,452,759 Kg or 1,353,458,950 meals\n"
     ]
    }
   ],
   "source": [
    "\n",
    "for i in range(2, 11):\n",
    "    print(f'{monthly_weights[i]:,} Kg or {int(monthly_weights[i] / .42):,} meals')\n",
    "\n",
    "annual_weight = sum(monthly_weights)\n",
    "annual_meals = int(annual_weight / .42)\n",
    "print(f'Annual figure: {annual_weight:,} Kg or {annual_meals:,} meals')"
   ]
  },
  {
   "cell_type": "code",
   "execution_count": null,
   "metadata": {},
   "outputs": [],
   "source": [
    "df['Kg'] = df['Weight (in grams)'] / 1000"
   ]
  },
  {
   "cell_type": "code",
   "execution_count": null,
   "metadata": {},
   "outputs": [],
   "source": [
    "month_sum = df.groupby('Month').sum()['Kg']"
   ]
  },
  {
   "cell_type": "code",
   "execution_count": null,
   "metadata": {},
   "outputs": [],
   "source": [
    "months = [\"Feb\", \"Mar\", \"Apr\", \"May\", \"Jun\", \"Jul\", \"Aug\", \"Sep\", \"Oct\"]\n",
    "fig = plt.figure()\n",
    "ax = fig.add_axes([0,0,1,1])\n",
    "ax.bar(month_sum.index.tolist(), month_sum)\n",
    "plt.xticks(month_sum.index.tolist(), months)\n",
    "plt.show()"
   ]
  },
  {
   "cell_type": "code",
   "execution_count": null,
   "metadata": {},
   "outputs": [],
   "source": [
    "sns.barplot(data = df\n",
    "            ,x = 'Month'\n",
    "            ,y = 'Kg'\n",
    "            ,ci = None\n",
    "            ,estimator = sum\n",
    "            )"
   ]
  },
  {
   "cell_type": "code",
   "execution_count": null,
   "metadata": {},
   "outputs": [],
   "source": [
    "sns.barplot(data = df\n",
    "            ,x = 'Temperature'\n",
    "            ,y = 'Kg'\n",
    "            ,ci = None\n",
    "            ,estimator = sum\n",
    "            ,hue='Product'\n",
    "            )"
   ]
  }
 ],
 "metadata": {
  "interpreter": {
   "hash": "df2f6cee2f675f5e194ff6d2707553e785117838836fb64d34e2d334497721a6"
  },
  "kernelspec": {
   "display_name": "Python 3.9.7 64-bit ('venv': venv)",
   "name": "python3"
  },
  "language_info": {
   "codemirror_mode": {
    "name": "ipython",
    "version": 3
   },
   "file_extension": ".py",
   "mimetype": "text/x-python",
   "name": "python",
   "nbconvert_exporter": "python",
   "pygments_lexer": "ipython3",
   "version": "3.9.7"
  }
 },
 "nbformat": 4,
 "nbformat_minor": 5
}
