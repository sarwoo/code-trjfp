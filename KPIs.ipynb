{
 "cells": [
  {
   "cell_type": "code",
   "execution_count": 2,
   "metadata": {},
   "outputs": [],
   "source": [
    "import pandas as pd\n",
    "import matplotlib.pyplot as plt\n",
    "import seaborn as sns"
   ]
  },
  {
   "cell_type": "code",
   "execution_count": 3,
   "metadata": {
    "scrolled": true
   },
   "outputs": [],
   "source": [
    "# df = pd.read_csv(\"./data/Intercept-all-data.csv\")\n",
    "df = pd.read_csv(\"./data/Intercept_2021.csv\")"
   ]
  },
  {
   "cell_type": "code",
   "execution_count": 4,
   "metadata": {},
   "outputs": [],
   "source": [
    "# Convert Date Intercept to datetime, day first\n",
    "df[\"Date Intercepted\"] = pd.to_datetime(df[\"Date Intercepted\"], dayfirst=True)"
   ]
  },
  {
   "cell_type": "code",
   "execution_count": 5,
   "metadata": {},
   "outputs": [],
   "source": [
    "# add month column\n",
    "df['Month'] = df['Date Intercepted'].dt.month"
   ]
  },
  {
   "cell_type": "code",
   "execution_count": 6,
   "metadata": {},
   "outputs": [],
   "source": [
    "monthly_weights = df.groupby('Month').sum()['Weight (in grams)']"
   ]
  },
  {
   "cell_type": "code",
   "execution_count": 7,
   "metadata": {},
   "outputs": [
    {
     "name": "stdout",
     "output_type": "stream",
     "text": [
      "Month\n",
      "2       7184800\n",
      "3     124405190\n",
      "4     102233283\n",
      "5      72768409\n",
      "6      54545706\n",
      "7      39183544\n",
      "8      43383779\n",
      "9     108630684\n",
      "10     29029964\n",
      "Name: Weight (in grams), dtype: int64\n"
     ]
    }
   ],
   "source": [
    "print(monthly_weights)"
   ]
  },
  {
   "cell_type": "code",
   "execution_count": 19,
   "metadata": {},
   "outputs": [
    {
     "name": "stdout",
     "output_type": "stream",
     "text": [
      "Feb: 7,184,800 Kg equivalent of 17,106,666 meals\n",
      "Mar: 124,405,190 Kg equivalent of 296,202,833 meals\n",
      "Apr: 102,233,283 Kg equivalent of 243,412,578 meals\n",
      "May: 72,768,409 Kg equivalent of 173,258,116 meals\n",
      "Jun: 54,545,706 Kg equivalent of 129,870,728 meals\n",
      "Jul: 39,183,544 Kg equivalent of 93,294,152 meals\n",
      "Aug: 43,383,779 Kg equivalent of 103,294,711 meals\n",
      "Sep: 108,630,684 Kg equivalent of 258,644,485 meals\n",
      "Oct: 29,029,964 Kg equivalent of 69,118,961 meals\n",
      "Annual: 581,365,359 Kg equivalent of 1,384,203,235 meals\n"
     ]
    }
   ],
   "source": [
    "month_str = [\"Jan\", \"Feb\", \"Mar\", \"Apr\", \"May\", \"Jun\", \"Jul\", \"Aug\", \"Sep\", \"Oct\"]\n",
    "for i in range(2, 11):\n",
    "    print(f'{month_str[i-1]}: {monthly_weights[i]:,} Kg equivalent of {int(monthly_weights[i] / .42):,} meals')\n",
    "\n",
    "annual_weight = sum(monthly_weights)\n",
    "annual_meals = int(annual_weight / .42)\n",
    "print(f'Annual: {annual_weight:,} Kg equivalent of {annual_meals:,} meals')"
   ]
  },
  {
   "cell_type": "code",
   "execution_count": 9,
   "metadata": {},
   "outputs": [],
   "source": [
    "df['Kg'] = df['Weight (in grams)'] / 1000"
   ]
  },
  {
   "cell_type": "code",
   "execution_count": 10,
   "metadata": {},
   "outputs": [],
   "source": [
    "month_sum = df.groupby('Month').sum()['Kg']"
   ]
  },
  {
   "cell_type": "code",
   "execution_count": 11,
   "metadata": {},
   "outputs": [
    {
     "data": {
      "image/png": "[encoded data removed]",
      "text/plain": [
       "<Figure size 432x288 with 1 Axes>"
      ]
     },
     "metadata": {
      "needs_background": "light"
     },
     "output_type": "display_data"
    }
   ],
   "source": [
    "months = [\"Feb\", \"Mar\", \"Apr\", \"May\", \"Jun\", \"Jul\", \"Aug\", \"Sep\", \"Oct\"]\n",
    "fig = plt.figure()\n",
    "ax = fig.add_axes([0,0,1,1])\n",
    "ax.bar(month_sum.index.tolist(), month_sum)\n",
    "plt.xticks(month_sum.index.tolist(), months)\n",
    "plt.show()"
   ]
  },
  {
   "cell_type": "code",
   "execution_count": 12,
   "metadata": {},
   "outputs": [
    {
     "data": {
      "text/plain": [
       "<AxesSubplot:xlabel='Month', ylabel='Kg'>"
      ]
     },
     "execution_count": 12,
     "metadata": {},
     "output_type": "execute_result"
    },
    {
     "data": {
      "image/png": "[encoded data removed]",
      "text/plain": [
       "<Figure size 432x288 with 1 Axes>"
      ]
     },
     "metadata": {
      "needs_background": "light"
     },
     "output_type": "display_data"
    }
   ],
   "source": [
    "sns.barplot(data = df\n",
    "            ,x = 'Month'\n",
    "            ,y = 'Kg'\n",
    "            ,ci = None\n",
    "            ,estimator = sum\n",
    "            )"
   ]
  },
  {
   "cell_type": "code",
   "execution_count": 13,
   "metadata": {},
   "outputs": [
    {
     "data": {
      "text/plain": [
       "<AxesSubplot:xlabel='Temperature', ylabel='Kg'>"
      ]
     },
     "execution_count": 13,
     "metadata": {},
     "output_type": "execute_result"
    },
    {
     "data": {
      "image/png": "[encoded data removed]",
      "text/plain": [
       "<Figure size 432x288 with 1 Axes>"
      ]
     },
     "metadata": {
      "needs_background": "light"
     },
     "output_type": "display_data"
    }
   ],
   "source": [
    "sns.barplot(data = df\n",
    "            ,x = 'Temperature'\n",
    "            ,y = 'Kg'\n",
    "            ,ci = None\n",
    "            ,estimator = sum\n",
    "            ,hue='Product'\n",
    "            )"
   ]
  }
 ],
 "metadata": {
  "interpreter": {
   "hash": "df2f6cee2f675f5e194ff6d2707553e785117838836fb64d34e2d334497721a6"
  },
  "kernelspec": {
   "display_name": "Python 3.9.7 64-bit ('venv': venv)",
   "name": "python3"
  },
  "language_info": {
   "codemirror_mode": {
    "name": "ipython",
    "version": 3
   },
   "file_extension": ".py",
   "mimetype": "text/x-python",
   "name": "python",
   "nbconvert_exporter": "python",
   "pygments_lexer": "ipython3",
   "version": "3.9.7"
  }
 },
 "nbformat": 4,
 "nbformat_minor": 5
}
